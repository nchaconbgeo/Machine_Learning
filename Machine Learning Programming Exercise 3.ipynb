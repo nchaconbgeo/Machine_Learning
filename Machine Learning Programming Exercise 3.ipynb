{
 "cells": [
  {
   "cell_type": "markdown",
   "metadata": {},
   "source": [
    "## Multi-Class Classification"
   ]
  },
  {
   "cell_type": "markdown",
   "metadata": {},
   "source": [
    "For this exercise we'll use logistic regression to recognize hand-written digits (0 to 9)."
   ]
  },
  {
   "cell_type": "code",
   "execution_count": 1,
   "metadata": {},
   "outputs": [
    {
     "data": {
      "text/plain": [
       "{'__header__': b'MATLAB 5.0 MAT-file, Platform: GLNXA64, Created on: Sun Oct 16 13:09:09 2011',\n",
       " '__version__': '1.0',\n",
       " '__globals__': [],\n",
       " 'X': array([[0., 0., 0., ..., 0., 0., 0.],\n",
       "        [0., 0., 0., ..., 0., 0., 0.],\n",
       "        [0., 0., 0., ..., 0., 0., 0.],\n",
       "        ...,\n",
       "        [0., 0., 0., ..., 0., 0., 0.],\n",
       "        [0., 0., 0., ..., 0., 0., 0.],\n",
       "        [0., 0., 0., ..., 0., 0., 0.]]),\n",
       " 'y': array([[10],\n",
       "        [10],\n",
       "        [10],\n",
       "        ...,\n",
       "        [ 9],\n",
       "        [ 9],\n",
       "        [ 9]], dtype=uint8)}"
      ]
     },
     "execution_count": 1,
     "metadata": {},
     "output_type": "execute_result"
    }
   ],
   "source": [
    "import numpy as np\n",
    "import pandas as pd\n",
    "import matplotlib.pyplot as plt\n",
    "from scipy.io import loadmat\n",
    "from PIL import Image\n",
    "%matplotlib inline\n",
    "data = loadmat('/Users/natalychacon/Documents/Machine Learning/std coursera/machine-learning-ex/ex3/ex3data1.mat') \n",
    "#As ex3data1 is in Matlab native format loadmat had to be used.\n",
    "data"
   ]
  },
  {
   "cell_type": "markdown",
   "metadata": {},
   "source": [
    "There are 5000 training examples in ex3data1.mat, where each training example is a 20 pixel by 20 pixel grayscale image of the digit. Each pixel is represented by a floating point number indicating the grayscale intensity at that location. The 20 by 20 grid of pixels is 'unrolled' into a 400-dimensional vector. Each of these training examples becomes a single row in our data matrix X. This gives us a 5000 by 400 matrix X where every row is a training example for a handwritten digit image."
   ]
  },
  {
   "cell_type": "code",
   "execution_count": 2,
   "metadata": {},
   "outputs": [
    {
     "data": {
      "text/plain": [
       "((5000, 400), (5000, 1))"
      ]
     },
     "execution_count": 2,
     "metadata": {},
     "output_type": "execute_result"
    }
   ],
   "source": [
    "#dimentions of the data\n",
    "data['X'].shape, data['y'].shape"
   ]
  },
  {
   "cell_type": "code",
   "execution_count": 3,
   "metadata": {},
   "outputs": [
    {
     "data": {
      "image/png": "[encoded data removed]",
      "text/plain": [
       "<Figure size 432x288 with 1 Axes>"
      ]
     },
     "metadata": {
      "needs_background": "light"
     },
     "output_type": "display_data"
    }
   ],
   "source": [
    "rows = data['X'].shape[0]\n",
    "X = np.insert(data['X'], 0, values=np.ones(rows), axis=1)\n",
    "X1 = X[5]\n",
    "X1 = X1[0:400]\n",
    "X1 = np.array(X1)\n",
    "X1 = X1.reshape(20,20)\n",
    "fig, ax = plt.subplots()\n",
    "ax.imshow(X1, cmap=plt.cm.gray, interpolation='nearest')\n",
    "plt.show()"
   ]
  },
  {
   "cell_type": "markdown",
   "metadata": {},
   "source": [
    "### Vectorize Logistic Regression"
   ]
  },
  {
   "cell_type": "code",
   "execution_count": 4,
   "metadata": {},
   "outputs": [],
   "source": [
    "def sigmoid(z):\n",
    "    return 1 / (1 + np.exp(-z)) "
   ]
  },
  {
   "cell_type": "code",
   "execution_count": 5,
   "metadata": {},
   "outputs": [],
   "source": [
    "def cost(theta,X,y,learning_rate):\n",
    "    m = np.size(y,0)\n",
    "    theta = np.matrix(theta)\n",
    "    X = np.matrix(X)\n",
    "    y = np.matrix(y)\n",
    "    sig = sigmoid(X * theta.T)\n",
    "    j = 1/m * np.sum(np.multiply(-y,np.log(sig))-np.multiply((1-y),np.log(1-sig))) + (((learning_rate)/(2*m))*np.sum(np.power(theta[:,1:theta.shape[1]],2)))\n",
    "    return j"
   ]
  },
  {
   "cell_type": "code",
   "execution_count": 6,
   "metadata": {},
   "outputs": [],
   "source": [
    "def gradient(theta,X,y,learning_rate):\n",
    "    theta = np.matrix(theta)\n",
    "    X = np.matrix(X)\n",
    "    y = np.matrix(y)\n",
    "    m = np.size(y,0)\n",
    "    sig = sigmoid(X * theta.T)\n",
    "    grad1 = 1/m *X.T*(sig-y) \n",
    "    grad2 = learning_rate/m * theta\n",
    "    grad2[0,0]=0\n",
    "    return grad1.T+grad2"
   ]
  },
  {
   "cell_type": "code",
   "execution_count": 7,
   "metadata": {},
   "outputs": [],
   "source": [
    "theta_t = np.matrix('-2, -1, 1, 2')\n",
    "X_t = np.insert(np.reshape(np.arange(1,16), (5,3), order='F')/10, 0, 1, axis=1)\n",
    "y_t = np.matrix(\"1;0;1;0;1\")\n",
    "lambda_t = 3"
   ]
  },
  {
   "cell_type": "code",
   "execution_count": 8,
   "metadata": {},
   "outputs": [
    {
     "data": {
      "text/plain": [
       "matrix([[ 0.14656137, -0.54855841,  0.72472227,  1.39800296]])"
      ]
     },
     "execution_count": 8,
     "metadata": {},
     "output_type": "execute_result"
    }
   ],
   "source": [
    "gradient(theta_t,X_t,y_t,lambda_t)"
   ]
  },
  {
   "cell_type": "code",
   "execution_count": 9,
   "metadata": {},
   "outputs": [
    {
     "data": {
      "text/plain": [
       "2.534819396109744"
      ]
     },
     "execution_count": 9,
     "metadata": {},
     "output_type": "execute_result"
    }
   ],
   "source": [
    "cost(theta_t,X_t,y_t,lambda_t)"
   ]
  },
  {
   "cell_type": "markdown",
   "metadata": {},
   "source": [
    "### One-vs-all"
   ]
  },
  {
   "cell_type": "markdown",
   "metadata": {},
   "source": [
    "Now that we've defined our cost and gradient functions, it's time to build a classifier. For this task we've got 10 possible classes, and since logistic regression is only able to distiguish between 2 classes at a time, we need a strategy to deal with the multi-class scenario. In this exercise we're tasked with implementing a one-vs-all classification approach, where a label with k different classes results in k classifiers, each one deciding between \"class i\" and \"not class i\" (i.e. any class other than i). We're going to wrap the classifier training up in one function that computes the final weights for each of the 10 classifiers and returns the weights as a k X (n + 1) array, where n is the number of parameters."
   ]
  },
  {
   "cell_type": "code",
   "execution_count": 29,
   "metadata": {},
   "outputs": [],
   "source": [
    "from scipy.optimize import minimize\n",
    "def one_vs_all(X,y,num_labels,learning_rate):\n",
    "    m = X.shape[0] #Rows\n",
    "    n = X.shape[1] #Parameters\n",
    "    \n",
    "    all_theta = np.zeros((num_labels, n + 1))\n",
    "    \n",
    "    #insert a column of ones for the intercept therm\n",
    "    X = np.insert(X, 0, 1, axis=1)\n",
    "   \n",
    "   \n",
    "    # labels are 1-indexed instead of 0-indexed\n",
    "    for i in range(1, num_labels + 1):\n",
    "        theta = np.zeros(n + 1)\n",
    "        y_i = np.array([1 if label == i else 0 for label in y])\n",
    "        y_i = np.reshape(y_i, (m, 1))\n",
    "        \n",
    "        # minimize the objective function\n",
    "        fmin = minimize(fun=cost, x0=theta, args=(X, y_i, learning_rate), method='TNC', jac=gradient)\n",
    "        all_theta[i-1,:] = fmin.x\n",
    "    \n",
    "    return all_theta\n",
    "    "
   ]
  },
  {
   "cell_type": "markdown",
   "metadata": {},
   "source": [
    "We are transforming y from  class label to a binary value for each classifier. Spicy minimize is used to minimize the cost function for each classifier."
   ]
  },
  {
   "cell_type": "code",
   "execution_count": 30,
   "metadata": {},
   "outputs": [
    {
     "data": {
      "text/plain": [
       "array([[-2.38161327e+00,  0.00000000e+00,  0.00000000e+00, ...,\n",
       "         1.30425774e-03, -7.18023833e-10,  0.00000000e+00],\n",
       "       [-3.18368854e+00,  0.00000000e+00,  0.00000000e+00, ...,\n",
       "         4.45819726e-03, -5.08285164e-04,  0.00000000e+00],\n",
       "       [-4.79819385e+00,  0.00000000e+00,  0.00000000e+00, ...,\n",
       "        -2.86238044e-05, -2.46864927e-07,  0.00000000e+00],\n",
       "       ...,\n",
       "       [-7.98669723e+00,  0.00000000e+00,  0.00000000e+00, ...,\n",
       "        -8.95615484e-05,  7.22105352e-06,  0.00000000e+00],\n",
       "       [-4.57192130e+00,  0.00000000e+00,  0.00000000e+00, ...,\n",
       "        -1.33570237e-03,  9.98944016e-05,  0.00000000e+00],\n",
       "       [-5.40479660e+00,  0.00000000e+00,  0.00000000e+00, ...,\n",
       "        -1.16598595e-04,  7.88728728e-06,  0.00000000e+00]])"
      ]
     },
     "execution_count": 30,
     "metadata": {},
     "output_type": "execute_result"
    }
   ],
   "source": [
    "all_theta = one_vs_all(data['X'], data['y'], 10, 1)\n",
    "all_theta"
   ]
  },
  {
   "cell_type": "markdown",
   "metadata": {},
   "source": [
    "We are going to used the trained classifiers to predict a label for each image.We're going to compute the class probability for each class, for each training instance (using vectorized code of course!) and assign the output class label as the class with the highest probability."
   ]
  },
  {
   "cell_type": "code",
   "execution_count": 41,
   "metadata": {},
   "outputs": [],
   "source": [
    "def predict_One_vs_all (X,all_theta):\n",
    "    X = np.matrix(X)\n",
    "    all_theta = np.matrix(all_theta)\n",
    "    m = X.shape[0] #Rows\n",
    "    num_labels = np.size(theta_t,0)\n",
    "    \n",
    "    #insert a column of ones for the intercept therm\n",
    "    X = np.insert(X, 0, 1, axis=1)\n",
    "    \n",
    "    # compute the class probability for each class on each training instance\n",
    "    A = X * all_theta.T\n",
    "    \n",
    "    # create array of the index with the maximum probability\n",
    "    A_argmax = np.argmax(A, axis=1)\n",
    "    \n",
    "    return A_argmax    "
   ]
  },
  {
   "cell_type": "code",
   "execution_count": 43,
   "metadata": {},
   "outputs": [
    {
     "data": {
      "text/plain": [
       "matrix([[9],\n",
       "        [9],\n",
       "        [9],\n",
       "        ...,\n",
       "        [8],\n",
       "        [8],\n",
       "        [6]])"
      ]
     },
     "execution_count": 43,
     "metadata": {},
     "output_type": "execute_result"
    }
   ],
   "source": [
    "y_pred = predict_One_vs_all(data['X'], all_theta)\n",
    "y_pred"
   ]
  }
 ],
 "metadata": {
  "kernelspec": {
   "display_name": "Python 3",
   "language": "python",
   "name": "python3"
  },
  "language_info": {
   "codemirror_mode": {
    "name": "ipython",
    "version": 3
   },
   "file_extension": ".py",
   "mimetype": "text/x-python",
   "name": "python",
   "nbconvert_exporter": "python",
   "pygments_lexer": "ipython3",
   "version": "3.7.4"
  }
 },
 "nbformat": 4,
 "nbformat_minor": 2
}
