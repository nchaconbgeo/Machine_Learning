{
 "cells": [
  {
   "cell_type": "markdown",
   "metadata": {},
   "source": [
    "##  Neural  Networks"
   ]
  },
  {
   "cell_type": "markdown",
   "metadata": {},
   "source": [
    "### 1.1 Load Data"
   ]
  },
  {
   "cell_type": "code",
   "execution_count": 1,
   "metadata": {},
   "outputs": [
    {
     "data": {
      "text/plain": [
       "((5000, 400), (5000, 1))"
      ]
     },
     "execution_count": 1,
     "metadata": {},
     "output_type": "execute_result"
    }
   ],
   "source": [
    "#Is the same data set as exercise 3\n",
    "import numpy as np\n",
    "import pandas as pd\n",
    "import matplotlib.pyplot as plt\n",
    "from scipy.io import loadmat\n",
    "from PIL import Image\n",
    "%matplotlib inline\n",
    "data = loadmat('/Users/natalychacon/Documents/Machine Learning/std coursera/machine-learning-ex/ex3/ex3data1.mat') \n",
    "X = data[\"X\"]\n",
    "y = data[\"y\"]\n",
    "X.shape, y.shape"
   ]
  },
  {
   "cell_type": "code",
   "execution_count": 2,
   "metadata": {},
   "outputs": [
    {
     "data": {
      "text/plain": [
       "((25, 401), (10, 26))"
      ]
     },
     "execution_count": 2,
     "metadata": {},
     "output_type": "execute_result"
    }
   ],
   "source": [
    "weight = loadmat('/Users/natalychacon/Documents/Machine Learning/std coursera/machine-learning-ex/ex4/ex4weights.mat')\n",
    "Theta1 = weight[\"Theta1\"]\n",
    "Theta2 = weight[\"Theta2\"]\n",
    "Theta1.shape, Theta2.shape"
   ]
  },
  {
   "cell_type": "markdown",
   "metadata": {},
   "source": [
    "### 1.2 Feedforward and cost function"
   ]
  },
  {
   "cell_type": "markdown",
   "metadata": {},
   "source": [
    "Implement the cost function and gradient for the neural network without regularization."
   ]
  },
  {
   "cell_type": "code",
   "execution_count": 3,
   "metadata": {},
   "outputs": [
    {
     "data": {
      "text/plain": [
       "(10285,)"
      ]
     },
     "execution_count": 3,
     "metadata": {},
     "output_type": "execute_result"
    }
   ],
   "source": [
    "input_layer_size = 400 # 20*20 Input of Images of Digits\n",
    "hidden_layer_size = 25 # 25 hidden units\n",
    "num_labels = 10  # k = 10 (1-10) is the number of possible labels\n",
    "learning_rate = 0 # lambda or regularization parameter(we set this to 0 here)\n",
    "# unroll parameters\n",
    "nn_params = np.concatenate(((Theta1).ravel(),(Theta2).ravel()))\n",
    "nn_params.shape"
   ]
  },
  {
   "cell_type": "code",
   "execution_count": 4,
   "metadata": {},
   "outputs": [],
   "source": [
    "def sigmoid(z):\n",
    "    return 1 / (1 + np.exp(-z)) "
   ]
  },
  {
   "cell_type": "code",
   "execution_count": 5,
   "metadata": {},
   "outputs": [],
   "source": [
    "def nncost(nnparams,input_layer_size,hidden_ayer_size,num_labels,X,y,learning_rate):\n",
    "    m = np.size(y,0)\n",
    "    X = np.matrix(X)\n",
    "    y = np.matrix(y)\n",
    "    \n",
    "    #reshape nn_params back into the parameters Theta1 and Theta2\n",
    "    Theta1 = np.reshape(nn_params[0:hidden_layer_size*(input_layer_size+1)],(hidden_layer_size,(input_layer_size+1)))\n",
    "    Theta1 = np.matrix(Theta1)\n",
    "    Theta2 = np.reshape(nn_params[hidden_layer_size*(input_layer_size+1):],((num_labels),(hidden_layer_size+1)))\n",
    "    Theta2 = np.matrix(Theta2)\n",
    "    \n",
    "    #The original labels in y were 1,2...10, for the purpose of the neural network, we need to recode the labels \n",
    "    #as vectors\n",
    "    #containing only values 0 or 1.\n",
    "    I = np.identity(num_labels)\n",
    "    Y = np.zeros((m,10),dtype=int)\n",
    "    for i in range(m):\n",
    "        Y[i,:]=I[(y[i]-1),:]\n",
    "        \n",
    "    #calculate activation for each layer\n",
    "    a1 = np.hstack((np.ones((m,1)),X))\n",
    "    a1 = np.matrix(a1)\n",
    "    z2 = a1 * Theta1.T\n",
    "    a2 = sigmoid(z2)\n",
    "    a2 = np.hstack((np.ones((m,1)),a2))\n",
    "    z3 = a2 * Theta2.T\n",
    "    a3 = sigmoid(z3)\n",
    "    \n",
    "    #cost \n",
    "    cost = np.sum(np.multiply(-Y,np.log(a3))-np.multiply((1-Y),np.log(1-a3)))\n",
    "    J= 1/m*cost\n",
    "    return J"
   ]
  },
  {
   "cell_type": "code",
   "execution_count": 6,
   "metadata": {},
   "outputs": [
    {
     "name": "stdout",
     "output_type": "stream",
     "text": [
      "Cost without regularization: \n",
      " 0.2876291651613189\n"
     ]
    }
   ],
   "source": [
    "cost1 = nncost(nn_params,input_layer_size,hidden_layer_size,num_labels,X,y,learning_rate)\n",
    "print('Cost without regularization: \\n', cost1)"
   ]
  },
  {
   "cell_type": "markdown",
   "metadata": {},
   "source": [
    "### 1.3 Regularized cost function"
   ]
  },
  {
   "cell_type": "code",
   "execution_count": 7,
   "metadata": {},
   "outputs": [],
   "source": [
    "def nncost_reg(nnparams,input_layer_size,hidden_ayer_size,num_labels,X,y,learning_rate):\n",
    "    m = np.size(y,0)\n",
    "    Theta1 = np.reshape(nn_params[0:hidden_layer_size*(input_layer_size+1)],(hidden_layer_size,(input_layer_size+1)))\n",
    "    Theta1 = np.matrix(Theta1)\n",
    "    Theta2 = np.reshape(nn_params[hidden_layer_size*(input_layer_size+1):],((num_labels),(hidden_layer_size+1)))\n",
    "    Theta2 = np.matrix(Theta2)\n",
    "    \n",
    "    J = nncost(nnparams,input_layer_size,hidden_ayer_size,num_labels,X,y,learning_rate)\n",
    "    Theta1_nobias = Theta1[:,1:]\n",
    "    Theta2_nobias = Theta2[:,1:]\n",
    "    reg = (learning_rate/(2*m)) * (np.sum(np. power(Theta1_nobias,2)) + np.sum(np. power(Theta2_nobias,2)))\n",
    "    \n",
    "    return J+reg"
   ]
  },
  {
   "cell_type": "code",
   "execution_count": 8,
   "metadata": {},
   "outputs": [
    {
     "name": "stdout",
     "output_type": "stream",
     "text": [
      "Regularized cost: \n",
      " 0.38376985909092365\n"
     ]
    }
   ],
   "source": [
    "learning_rate = 1\n",
    "costreg1 = nncost_reg(nn_params,input_layer_size,hidden_layer_size,num_labels,X,y,learning_rate)\n",
    "print('Regularized cost: \\n', costreg1)"
   ]
  },
  {
   "cell_type": "markdown",
   "metadata": {},
   "source": [
    "## Backpropagation"
   ]
  },
  {
   "cell_type": "markdown",
   "metadata": {},
   "source": [
    "### 2.1 Sigmoid Gradient"
   ]
  },
  {
   "cell_type": "code",
   "execution_count": 9,
   "metadata": {},
   "outputs": [],
   "source": [
    "def sigmoidGradient(z):\n",
    "    sig = sigmoid(z)\n",
    "    return np.multiply(sig,(1-sig))"
   ]
  },
  {
   "cell_type": "code",
   "execution_count": 10,
   "metadata": {},
   "outputs": [
    {
     "data": {
      "text/plain": [
       "0.25"
      ]
     },
     "execution_count": 10,
     "metadata": {},
     "output_type": "execute_result"
    }
   ],
   "source": [
    "sigmoidGradient(0)"
   ]
  },
  {
   "cell_type": "markdown",
   "metadata": {},
   "source": [
    "### 2.2 Random Initialitation"
   ]
  },
  {
   "cell_type": "markdown",
   "metadata": {},
   "source": [
    "When training neural networks it is important to  randomly initialize the parameters for symmetry breaking."
   ]
  },
  {
   "cell_type": "code",
   "execution_count": 11,
   "metadata": {},
   "outputs": [],
   "source": [
    "#L_in = layer in\n",
    "#L_out = layer out\n",
    "def randInitializeWeights(L_in, L_out):\n",
    "    epsilon_init = 0.12\n",
    "    return np.random.random((L_out,1+L_in))*2*epsilon_init - epsilon_init"
   ]
  },
  {
   "cell_type": "code",
   "execution_count": 12,
   "metadata": {},
   "outputs": [],
   "source": [
    "initial_Tetha1 = randInitializeWeights(input_layer_size, hidden_layer_size)\n",
    "initial_Theta2 = randInitializeWeights(hidden_layer_size, num_labels)"
   ]
  },
  {
   "cell_type": "markdown",
   "metadata": {},
   "source": [
    "### 2.3 Backpropagation"
   ]
  },
  {
   "cell_type": "code",
   "execution_count": 13,
   "metadata": {},
   "outputs": [],
   "source": [
    "def backprop(nnparams,input_layer_size,hidden_ayer_size,num_labels,X,y,learning_rate):\n",
    "    J = nncost_reg(nnparams,input_layer_size,hidden_ayer_size,num_labels,X,y,learning_rate)\n",
    "    m = np.size(y,0)\n",
    "    X = np.matrix(X)\n",
    "    y = np.matrix(y)\n",
    "   \n",
    "    Theta1 = np.reshape(nn_params[0:hidden_layer_size*(input_layer_size+1)],(hidden_layer_size,(input_layer_size+1)))\n",
    "    Theta1 = np.matrix(Theta1)\n",
    "    Theta2 = np.reshape(nn_params[hidden_layer_size*(input_layer_size+1):],((num_labels),(hidden_layer_size+1)))\n",
    "    Theta2 = np.matrix(Theta2)\n",
    "    \n",
    "    I = np.identity(num_labels)\n",
    "    Y = np.zeros((m,10),dtype=int)\n",
    "    for i in range(m):\n",
    "        Y[i,:]=I[(y[i]-1),:]\n",
    "    \n",
    "    delta1 = 0\n",
    "    delta2 = 0\n",
    "    Theta1_nobias = Theta1[:,1:]\n",
    "    Theta2_nobias = Theta2[:,1:]\n",
    "    \n",
    "    for i in range(m):\n",
    "        a1 = np.vstack((np.array([1]),np.matrix(X[i]).T))\n",
    "        z2 = Theta1*a1\n",
    "        a2 = np.vstack(((np.array(1)),sigmoid(z2)))\n",
    "        z3 = Theta2*a2\n",
    "        a3 = sigmoid(z3)\n",
    "        \n",
    "        \n",
    "        d3 = a3-np.matrix(Y[0]).T\n",
    "        d2 = np.multiply(Theta2_nobias.T*d3,sigmoidGradient(z2))\n",
    "        \n",
    "        delta1 = delta1 + d2*(a1.T)\n",
    "        delta2 = delta2 + d3*(a2.T)\n",
    "        \n",
    "        reg_grad1 = np.multiply ((learning_rate/m),Theta1)\n",
    "        reg_grad1[:,0]=0\n",
    "        Theta1_grad = (1/m)*delta1+reg_grad1\n",
    "        \n",
    "        reg_grad2 = np.multiply ((learning_rate/m),Theta2)\n",
    "        reg_grad2[:,0]=0\n",
    "        Theta2_grad = (1/m)*delta2+reg_grad2\n",
    "        \n",
    "        \n",
    "        Theta1_grad = Theta1_grad.ravel(order = \"F\")\n",
    "        Theta2_grad = Theta2_grad.ravel(order = \"F\")\n",
    "        grad = np.vstack((Theta1_grad.T,Theta2_grad.T))\n",
    "    \n",
    "    return J,grad\n",
    "    "
   ]
  },
  {
   "cell_type": "code",
   "execution_count": 14,
   "metadata": {},
   "outputs": [
    {
     "name": "stdout",
     "output_type": "stream",
     "text": [
      "0.38376985909092365 (10285, 1)\n"
     ]
    }
   ],
   "source": [
    "learning_rate = 1\n",
    "nnparams = np.concatenate(((initial_Tetha1).ravel(),(initial_Theta2).ravel()))\n",
    "J, grad = backprop(nnparams,input_layer_size,hidden_layer_size,num_labels,X,y,learning_rate)\n",
    "print(J,grad.shape)"
   ]
  }
 ],
 "metadata": {
  "kernelspec": {
   "display_name": "Python 3",
   "language": "python",
   "name": "python3"
  },
  "language_info": {
   "codemirror_mode": {
    "name": "ipython",
    "version": 3
   },
   "file_extension": ".py",
   "mimetype": "text/x-python",
   "name": "python",
   "nbconvert_exporter": "python",
   "pygments_lexer": "ipython3",
   "version": "3.7.4"
  }
 },
 "nbformat": 4,
 "nbformat_minor": 2
}
